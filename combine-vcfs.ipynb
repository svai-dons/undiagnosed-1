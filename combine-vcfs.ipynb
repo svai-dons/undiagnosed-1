{
 "cells": [
  {
   "cell_type": "code",
   "execution_count": 1,
   "metadata": {},
   "outputs": [],
   "source": [
    "import re\n",
    "import pandas as pd\n",
    "import os\n",
    "import matplotlib.pyplot as plt\n",
    "%matplotlib inline"
   ]
  },
  {
   "cell_type": "markdown",
   "metadata": {},
   "source": [
    "Annotate variants using `snpEff`\n",
    "\n",
    "    java -Xmx4g -jar snpEff.jar GRCh37.75 ../patient-data/Exome/variants.vcf \\\n",
    "        > ../results/exome-variants-snpeff-grch37.75.vcf\n",
    "        "
   ]
  },
  {
   "cell_type": "code",
   "execution_count": 1,
   "metadata": {},
   "outputs": [],
   "source": [
    "def get_del_len(x):\n",
    "    gr = re.match('(DEL|INV)(?P<length>[0-9]+)', x,)\n",
    "    if gr is not None:\n",
    "        return int(gr.groupdict()['length'])\n",
    "    else:\n",
    "        return 1\n",
    "    \n",
    "map_Annotation_Impact = {vv:kk for kk,vv in enumerate(\n",
    "    ['LOW', 'MODERATE', 'MODIFIER', 'HIGH',])}"
   ]
  },
  {
   "cell_type": "code",
   "execution_count": 155,
   "metadata": {},
   "outputs": [],
   "source": [
    "# %%bash\n",
    "# # sed 's/^/chr/'\n",
    "# # !grep -v '##' results/exome-variants-snpeff-grch37.75.vcf | head\n",
    "# cat results/exome-variants-snpeff-grch37.75.vcf | sed 's/^/chr/' | sed 's/^chr#/#/' \\\n",
    "#     >  results/exome-variants-snpeff-grch37.75-chr.vcf "
   ]
  },
  {
   "cell_type": "code",
   "execution_count": 2,
   "metadata": {},
   "outputs": [],
   "source": [
    "# %%bash\n",
    "# # -a refs/gencode.v29lift37.annotation.geneid.bed \\\n",
    "# #     -a refs/gencode.v29lift37.annotation.gff3.gz \\\n",
    "# cat refs/gencode.v29lift37.annotation.bed | grep '[^chr|^#chr]' |\n",
    "# bedtools intersect \\\n",
    "#     -a  - \\\n",
    "#     -b results/exome-variants-snpeff-grch37.75-chr.vcf \\\n",
    "#     -wo  -header \\\n",
    "#     > results/exome-variants-snpeff-grch37.75-gencode.bed"
   ]
  },
  {
   "cell_type": "code",
   "execution_count": 245,
   "metadata": {},
   "outputs": [],
   "source": [
    "# results/SQ9887_L00.combined.genotyped-snpeff-grch37.75-annotations-pass-homozygous.vcf.gz\n",
    "!head -n1 results/SQ9887_L00.combined.genotyped-snpeff-grch37.75-annotations.vcf> \\\n",
    "results/SQ9887_L00.combined.genotyped-snpeff-grch37.75-annotations-pass-homozygous.vcf"
   ]
  },
  {
   "cell_type": "code",
   "execution_count": 246,
   "metadata": {},
   "outputs": [],
   "source": [
    "!zcat results/SQ9887_L00.combined.genotyped-snpeff-grch37.75-annotations-pass-homozygous.vcf.gz \\\n",
    ">> results/SQ9887_L00.combined.genotyped-snpeff-grch37.75-annotations-pass-homozygous.vcf"
   ]
  },
  {
   "cell_type": "code",
   "execution_count": null,
   "metadata": {},
   "outputs": [],
   "source": []
  },
  {
   "cell_type": "code",
   "execution_count": 250,
   "metadata": {},
   "outputs": [],
   "source": [
    "fns = {'cnv':\n",
    "      'results/SQ9887_L00.combined.genotyped-snpeff-grch37.75-annotations-pass-homozygous.vcf',\n",
    "      'exome':\n",
    "       'results/exome-variants-snpeff-grch37.75-gencode-annotations-pass-homozygous.vcf'\n",
    "      }"
   ]
  },
  {
   "cell_type": "code",
   "execution_count": 449,
   "metadata": {},
   "outputs": [
    {
     "name": "stderr",
     "output_type": "stream",
     "text": [
      "/tools/miniconda/envs/jupyter-env/lib/python3.7/site-packages/IPython/core/interactiveshell.py:3049: DtypeWarning: Columns (5,9,13,24) have mixed types. Specify dtype option on import or set low_memory=False.\n",
      "  interactivity=interactivity, compiler=compiler, result=result)\n",
      "/tools/miniconda/envs/jupyter-env/lib/python3.7/site-packages/ipykernel_launcher.py:7: FutureWarning: Sorting because non-concatenation axis is not aligned. A future version\n",
      "of pandas will change to not sort by default.\n",
      "\n",
      "To accept the future behavior, pass 'sort=False'.\n",
      "\n",
      "To retain the current behavior and silence the warning, pass 'sort=True'.\n",
      "\n",
      "  import sys\n"
     ]
    }
   ],
   "source": [
    "variants = []\n",
    "for kk,fn in fns.items():\n",
    "    tmp=pd.read_csv(fn, sep='\\t')\n",
    "    tmp['type'] = kk\n",
    "    variants.append(tmp)\n",
    "del tmp\n",
    "variants = pd.concat(variants).reset_index(drop=True)"
   ]
  },
  {
   "cell_type": "code",
   "execution_count": 461,
   "metadata": {},
   "outputs": [
    {
     "data": {
      "text/plain": [
       "44"
      ]
     },
     "execution_count": 461,
     "metadata": {},
     "output_type": "execute_result"
    }
   ],
   "source": [
    "(variants.Gene_Name == 'MUC13').sum()"
   ]
  },
  {
   "cell_type": "code",
   "execution_count": null,
   "metadata": {},
   "outputs": [],
   "source": [
    "(variants.Gene_Name == 'MUC13').sum()"
   ]
  },
  {
   "cell_type": "code",
   "execution_count": 451,
   "metadata": {},
   "outputs": [],
   "source": [
    "variants['Annotation_Impact_Int'] = (variants.Annotation_Impact\n",
    "                                     .map(lambda x: map_Annotation_Impact[x]))\n"
   ]
  },
  {
   "cell_type": "code",
   "execution_count": 463,
   "metadata": {},
   "outputs": [
    {
     "data": {
      "text/plain": [
       "Index(['#CHROM', 'AA.pos.length', 'ALT', 'Allele', 'Annotation',\n",
       "       'Annotation_Impact', 'CDS.pos.length', 'Distance', 'ERRORS', 'FILTER',\n",
       "       'FORMAT', 'Feature_ID', 'Feature_Type', 'Gene_ID', 'Gene_Name',\n",
       "       'HGVS.c', 'HGVS.p', 'ID', 'POS', 'QUAL', 'REF', 'RESULT', 'Rank',\n",
       "       'Transcript_BioType', 'cDNA.pos.length', 'type',\n",
       "       'Annotation_Impact_Int', 'length', 'CDS.length'],\n",
       "      dtype='object')"
      ]
     },
     "execution_count": 463,
     "metadata": {},
     "output_type": "execute_result"
    }
   ],
   "source": [
    "variants.columns"
   ]
  },
  {
   "cell_type": "code",
   "execution_count": null,
   "metadata": {},
   "outputs": [],
   "source": []
  },
  {
   "cell_type": "code",
   "execution_count": 452,
   "metadata": {},
   "outputs": [],
   "source": [
    "variants['length'] = variants['ID'].map(get_del_len)"
   ]
  },
  {
   "cell_type": "code",
   "execution_count": null,
   "metadata": {},
   "outputs": [],
   "source": []
  },
  {
   "cell_type": "code",
   "execution_count": 453,
   "metadata": {},
   "outputs": [],
   "source": [
    "mask = ~variants['CDS.pos.length'].isnull()\n",
    "variants.loc[mask, 'CDS.length'] = variants.loc[mask, 'CDS.pos.length'].map(\n",
    "        lambda x: pd.np.diff([int(y) for y in x.split('/')])[0])"
   ]
  },
  {
   "cell_type": "code",
   "execution_count": 464,
   "metadata": {},
   "outputs": [
    {
     "data": {
      "text/html": [
       "<div>\n",
       "<style scoped>\n",
       "    .dataframe tbody tr th:only-of-type {\n",
       "        vertical-align: middle;\n",
       "    }\n",
       "\n",
       "    .dataframe tbody tr th {\n",
       "        vertical-align: top;\n",
       "    }\n",
       "\n",
       "    .dataframe thead th {\n",
       "        text-align: right;\n",
       "    }\n",
       "</style>\n",
       "<table border=\"1\" class=\"dataframe\">\n",
       "  <thead>\n",
       "    <tr style=\"text-align: right;\">\n",
       "      <th></th>\n",
       "      <th>#CHROM</th>\n",
       "      <th>AA.pos.length</th>\n",
       "      <th>ALT</th>\n",
       "      <th>Allele</th>\n",
       "      <th>Annotation</th>\n",
       "      <th>Annotation_Impact</th>\n",
       "      <th>CDS.pos.length</th>\n",
       "      <th>Distance</th>\n",
       "      <th>ERRORS</th>\n",
       "      <th>FILTER</th>\n",
       "      <th>...</th>\n",
       "      <th>QUAL</th>\n",
       "      <th>REF</th>\n",
       "      <th>RESULT</th>\n",
       "      <th>Rank</th>\n",
       "      <th>Transcript_BioType</th>\n",
       "      <th>cDNA.pos.length</th>\n",
       "      <th>type</th>\n",
       "      <th>Annotation_Impact_Int</th>\n",
       "      <th>length</th>\n",
       "      <th>CDS.length</th>\n",
       "    </tr>\n",
       "  </thead>\n",
       "  <tbody>\n",
       "    <tr>\n",
       "      <th>0</th>\n",
       "      <td>chr1</td>\n",
       "      <td>NaN</td>\n",
       "      <td>&lt;DEL&gt;</td>\n",
       "      <td>&lt;DEL&gt;</td>\n",
       "      <td>upstream_gene_variant</td>\n",
       "      <td>MODIFIER</td>\n",
       "      <td>NaN</td>\n",
       "      <td>3007.0</td>\n",
       "      <td>WARNING_TRANSCRIPT_NO_STOP_CODON</td>\n",
       "      <td>PASS</td>\n",
       "      <td>...</td>\n",
       "      <td>5.0</td>\n",
       "      <td>N</td>\n",
       "      <td>1/1:BREAKDANCER,CNVNATOR,DELLY,LUMPY</td>\n",
       "      <td>NaN</td>\n",
       "      <td>protein_coding</td>\n",
       "      <td>NaN</td>\n",
       "      <td>cnv</td>\n",
       "      <td>2</td>\n",
       "      <td>30</td>\n",
       "      <td>NaN</td>\n",
       "    </tr>\n",
       "    <tr>\n",
       "      <th>1</th>\n",
       "      <td>chr1</td>\n",
       "      <td>NaN</td>\n",
       "      <td>&lt;DEL&gt;</td>\n",
       "      <td>&lt;DEL&gt;</td>\n",
       "      <td>upstream_gene_variant</td>\n",
       "      <td>MODIFIER</td>\n",
       "      <td>NaN</td>\n",
       "      <td>5203.0</td>\n",
       "      <td>WARNING_TRANSCRIPT_NO_START_CODON</td>\n",
       "      <td>PASS</td>\n",
       "      <td>...</td>\n",
       "      <td>5.0</td>\n",
       "      <td>N</td>\n",
       "      <td>1/1:BREAKDANCER,CNVNATOR,DELLY,LUMPY</td>\n",
       "      <td>NaN</td>\n",
       "      <td>protein_coding</td>\n",
       "      <td>NaN</td>\n",
       "      <td>cnv</td>\n",
       "      <td>2</td>\n",
       "      <td>30</td>\n",
       "      <td>NaN</td>\n",
       "    </tr>\n",
       "    <tr>\n",
       "      <th>2</th>\n",
       "      <td>chr1</td>\n",
       "      <td>NaN</td>\n",
       "      <td>&lt;DEL&gt;</td>\n",
       "      <td>&lt;DEL&gt;</td>\n",
       "      <td>intron_variant</td>\n",
       "      <td>MODIFIER</td>\n",
       "      <td>NaN</td>\n",
       "      <td>NaN</td>\n",
       "      <td>NaN</td>\n",
       "      <td>PASS</td>\n",
       "      <td>...</td>\n",
       "      <td>5.0</td>\n",
       "      <td>N</td>\n",
       "      <td>1/1:BREAKDANCER,CNVNATOR,DELLY,LUMPY</td>\n",
       "      <td>4/13</td>\n",
       "      <td>protein_coding</td>\n",
       "      <td>NaN</td>\n",
       "      <td>cnv</td>\n",
       "      <td>2</td>\n",
       "      <td>30</td>\n",
       "      <td>NaN</td>\n",
       "    </tr>\n",
       "    <tr>\n",
       "      <th>3</th>\n",
       "      <td>chr1</td>\n",
       "      <td>NaN</td>\n",
       "      <td>&lt;DEL&gt;</td>\n",
       "      <td>&lt;DEL&gt;</td>\n",
       "      <td>intron_variant</td>\n",
       "      <td>MODIFIER</td>\n",
       "      <td>NaN</td>\n",
       "      <td>NaN</td>\n",
       "      <td>WARNING_TRANSCRIPT_NO_STOP_CODON</td>\n",
       "      <td>PASS</td>\n",
       "      <td>...</td>\n",
       "      <td>5.0</td>\n",
       "      <td>N</td>\n",
       "      <td>1/1:BREAKDANCER,CNVNATOR,DELLY,LUMPY</td>\n",
       "      <td>4/6</td>\n",
       "      <td>protein_coding</td>\n",
       "      <td>NaN</td>\n",
       "      <td>cnv</td>\n",
       "      <td>2</td>\n",
       "      <td>30</td>\n",
       "      <td>NaN</td>\n",
       "    </tr>\n",
       "    <tr>\n",
       "      <th>4</th>\n",
       "      <td>chr1</td>\n",
       "      <td>NaN</td>\n",
       "      <td>&lt;DEL&gt;</td>\n",
       "      <td>&lt;DEL&gt;</td>\n",
       "      <td>intron_variant</td>\n",
       "      <td>MODIFIER</td>\n",
       "      <td>NaN</td>\n",
       "      <td>NaN</td>\n",
       "      <td>WARNING_TRANSCRIPT_NO_STOP_CODON</td>\n",
       "      <td>PASS</td>\n",
       "      <td>...</td>\n",
       "      <td>5.0</td>\n",
       "      <td>N</td>\n",
       "      <td>1/1:BREAKDANCER,CNVNATOR,DELLY,LUMPY</td>\n",
       "      <td>4/4</td>\n",
       "      <td>protein_coding</td>\n",
       "      <td>NaN</td>\n",
       "      <td>cnv</td>\n",
       "      <td>2</td>\n",
       "      <td>30</td>\n",
       "      <td>NaN</td>\n",
       "    </tr>\n",
       "  </tbody>\n",
       "</table>\n",
       "<p>5 rows × 29 columns</p>\n",
       "</div>"
      ],
      "text/plain": [
       "  #CHROM AA.pos.length    ALT Allele             Annotation Annotation_Impact  \\\n",
       "0   chr1           NaN  <DEL>  <DEL>  upstream_gene_variant          MODIFIER   \n",
       "1   chr1           NaN  <DEL>  <DEL>  upstream_gene_variant          MODIFIER   \n",
       "2   chr1           NaN  <DEL>  <DEL>         intron_variant          MODIFIER   \n",
       "3   chr1           NaN  <DEL>  <DEL>         intron_variant          MODIFIER   \n",
       "4   chr1           NaN  <DEL>  <DEL>         intron_variant          MODIFIER   \n",
       "\n",
       "  CDS.pos.length  Distance                             ERRORS FILTER  ...  \\\n",
       "0            NaN    3007.0   WARNING_TRANSCRIPT_NO_STOP_CODON   PASS  ...   \n",
       "1            NaN    5203.0  WARNING_TRANSCRIPT_NO_START_CODON   PASS  ...   \n",
       "2            NaN       NaN                                NaN   PASS  ...   \n",
       "3            NaN       NaN   WARNING_TRANSCRIPT_NO_STOP_CODON   PASS  ...   \n",
       "4            NaN       NaN   WARNING_TRANSCRIPT_NO_STOP_CODON   PASS  ...   \n",
       "\n",
       "  QUAL REF                                RESULT  Rank Transcript_BioType  \\\n",
       "0  5.0   N  1/1:BREAKDANCER,CNVNATOR,DELLY,LUMPY   NaN     protein_coding   \n",
       "1  5.0   N  1/1:BREAKDANCER,CNVNATOR,DELLY,LUMPY   NaN     protein_coding   \n",
       "2  5.0   N  1/1:BREAKDANCER,CNVNATOR,DELLY,LUMPY  4/13     protein_coding   \n",
       "3  5.0   N  1/1:BREAKDANCER,CNVNATOR,DELLY,LUMPY   4/6     protein_coding   \n",
       "4  5.0   N  1/1:BREAKDANCER,CNVNATOR,DELLY,LUMPY   4/4     protein_coding   \n",
       "\n",
       "  cDNA.pos.length type Annotation_Impact_Int  length CDS.length  \n",
       "0             NaN  cnv                     2      30        NaN  \n",
       "1             NaN  cnv                     2      30        NaN  \n",
       "2             NaN  cnv                     2      30        NaN  \n",
       "3             NaN  cnv                     2      30        NaN  \n",
       "4             NaN  cnv                     2      30        NaN  \n",
       "\n",
       "[5 rows x 29 columns]"
      ]
     },
     "execution_count": 464,
     "metadata": {},
     "output_type": "execute_result"
    }
   ],
   "source": [
    "variants.to_csv(\n",
    "    sep='\\t')"
   ]
  },
  {
   "cell_type": "code",
   "execution_count": 361,
   "metadata": {},
   "outputs": [
    {
     "name": "stderr",
     "output_type": "stream",
     "text": [
      "/tools/miniconda/envs/jupyter-env/lib/python3.7/site-packages/ipykernel_launcher.py:6: UserWarning: Attempted to set non-positive left xlim on a log-scaled axis.\n",
      "Invalid limit will be ignored.\n",
      "  \n"
     ]
    },
    {
     "data": {
      "text/plain": [
       "(6, 89125.0938133746)"
      ]
     },
     "execution_count": 361,
     "metadata": {},
     "output_type": "execute_result"
    },
    {
     "data": {
      "image/png": "[encoded data removed]",
      "text/plain": [
       "<Figure size 432x288 with 1 Axes>"
      ]
     },
     "metadata": {
      "needs_background": "light"
     },
     "output_type": "display_data"
    }
   ],
   "source": [
    "mask = ~variants['CDS.pos.length'].isnull()\n",
    "cds_lengths = variants.loc[mask, 'CDS.length'].value_counts().sort_index().reset_index()\n",
    "cds_lengths.columns = ['length', 'count']\n",
    "#index\tCDS.length\n",
    "cds_lengths.plot(x='length', y='count', kind='scatter',)\n",
    "plt.xscale('log')\n",
    "plt.xlim([0,6])"
   ]
  },
  {
   "cell_type": "code",
   "execution_count": 371,
   "metadata": {},
   "outputs": [
    {
     "data": {
      "text/plain": [
       "<matplotlib.axes._subplots.AxesSubplot at 0x7f129e3f3748>"
      ]
     },
     "execution_count": 371,
     "metadata": {},
     "output_type": "execute_result"
    },
    {
     "data": {
      "image/png": "[encoded data removed]",
      "text/plain": [
       "<Figure size 432x288 with 1 Axes>"
      ]
     },
     "metadata": {
      "needs_background": "light"
     },
     "output_type": "display_data"
    }
   ],
   "source": [
    "mask = (variants['length']>1)\n",
    "del_lengths = variants.loc[mask, 'length'].value_counts().sort_index().reset_index()\n",
    "del_lengths.columns = ['length', 'count']\n",
    "#index\tCDS.length\n",
    "del_lengths.plot(x='length', y='count', kind='scatter',)\n",
    "# plt.xscale('log')\n",
    "# plt.xlim([0,4])"
   ]
  },
  {
   "cell_type": "code",
   "execution_count": null,
   "metadata": {},
   "outputs": [],
   "source": []
  },
  {
   "cell_type": "code",
   "execution_count": 254,
   "metadata": {},
   "outputs": [
    {
     "data": {
      "text/plain": [
       "protein_coding                        805038\n",
       "retained_intron                       212290\n",
       "processed_transcript                  204347\n",
       "nonsense_mediated_decay               122048\n",
       "antisense                              74407\n",
       "processed_pseudogene                   71742\n",
       "lincRNA                                64483\n",
       "unprocessed_pseudogene                 20430\n",
       "miRNA                                  19872\n",
       "misc_RNA                               13594\n",
       "snRNA                                  13104\n",
       "snoRNA                                  9282\n",
       "transcribed_unprocessed_pseudogene      6484\n",
       "sense_intronic                          3985\n",
       "rRNA                                    2867\n",
       "transcribed_processed_pseudogene        2404\n",
       "pseudogene                              2129\n",
       "sense_overlapping                       2029\n",
       "unitary_pseudogene                      1507\n",
       "polymorphic_pseudogene                  1130\n",
       "prime3_overlapping_ncrna                 357\n",
       "non_stop_decay                           219\n",
       "TR_J_gene                                110\n",
       "IG_V_gene                                104\n",
       "TR_V_gene                                104\n",
       "IG_V_pseudogene                           97\n",
       "IG_D_gene                                 84\n",
       "IG_C_gene                                 37\n",
       "TR_V_pseudogene                           31\n",
       "TR_C_gene                                 17\n",
       "TR_J_pseudogene                           10\n",
       "IG_J_gene                                  6\n",
       "IG_J_pseudogene                            3\n",
       "IG_C_pseudogene                            2\n",
       "Name: Transcript_BioType, dtype: int64"
      ]
     },
     "execution_count": 254,
     "metadata": {},
     "output_type": "execute_result"
    }
   ],
   "source": [
    "variants.Transcript_BioType.value_counts()"
   ]
  },
  {
   "cell_type": "code",
   "execution_count": 258,
   "metadata": {},
   "outputs": [
    {
     "data": {
      "text/plain": [
       "Index(['#CHROM', 'AA.pos.length', 'ALT', 'Allele', 'Annotation',\n",
       "       'Annotation_Impact', 'CDS.pos.length', 'Distance', 'ERRORS', 'FILTER',\n",
       "       'FORMAT', 'Feature_ID', 'Feature_Type', 'Gene_ID', 'Gene_Name',\n",
       "       'HGVS.c', 'HGVS.p', 'ID', 'POS', 'QUAL', 'REF', 'RESULT', 'Rank',\n",
       "       'Transcript_BioType', 'cDNA.pos.length', 'type'],\n",
       "      dtype='object')"
      ]
     },
     "execution_count": 258,
     "metadata": {},
     "output_type": "execute_result"
    }
   ],
   "source": [
    "# variants.Annotation.value_counts()\n",
    "variants.columns"
   ]
  },
  {
   "cell_type": "code",
   "execution_count": 255,
   "metadata": {},
   "outputs": [
    {
     "data": {
      "text/html": [
       "<div>\n",
       "<style scoped>\n",
       "    .dataframe tbody tr th:only-of-type {\n",
       "        vertical-align: middle;\n",
       "    }\n",
       "\n",
       "    .dataframe tbody tr th {\n",
       "        vertical-align: top;\n",
       "    }\n",
       "\n",
       "    .dataframe thead th {\n",
       "        text-align: right;\n",
       "    }\n",
       "</style>\n",
       "<table border=\"1\" class=\"dataframe\">\n",
       "  <thead>\n",
       "    <tr style=\"text-align: right;\">\n",
       "      <th></th>\n",
       "      <th>#CHROM</th>\n",
       "      <th>AA.pos.length</th>\n",
       "      <th>ALT</th>\n",
       "      <th>Allele</th>\n",
       "      <th>Annotation</th>\n",
       "      <th>Annotation_Impact</th>\n",
       "      <th>CDS.pos.length</th>\n",
       "      <th>Distance</th>\n",
       "      <th>ERRORS</th>\n",
       "      <th>FILTER</th>\n",
       "      <th>...</th>\n",
       "      <th>HGVS.p</th>\n",
       "      <th>ID</th>\n",
       "      <th>POS</th>\n",
       "      <th>QUAL</th>\n",
       "      <th>REF</th>\n",
       "      <th>RESULT</th>\n",
       "      <th>Rank</th>\n",
       "      <th>Transcript_BioType</th>\n",
       "      <th>cDNA.pos.length</th>\n",
       "      <th>type</th>\n",
       "    </tr>\n",
       "  </thead>\n",
       "  <tbody>\n",
       "    <tr>\n",
       "      <th>0</th>\n",
       "      <td>chr1</td>\n",
       "      <td>NaN</td>\n",
       "      <td>&lt;DEL&gt;</td>\n",
       "      <td>&lt;DEL&gt;</td>\n",
       "      <td>upstream_gene_variant</td>\n",
       "      <td>MODIFIER</td>\n",
       "      <td>NaN</td>\n",
       "      <td>3007.0</td>\n",
       "      <td>WARNING_TRANSCRIPT_NO_STOP_CODON</td>\n",
       "      <td>PASS</td>\n",
       "      <td>...</td>\n",
       "      <td>NaN</td>\n",
       "      <td>DEL0030SUR</td>\n",
       "      <td>869451</td>\n",
       "      <td>5.0</td>\n",
       "      <td>N</td>\n",
       "      <td>1/1:BREAKDANCER,CNVNATOR,DELLY,LUMPY</td>\n",
       "      <td>NaN</td>\n",
       "      <td>protein_coding</td>\n",
       "      <td>NaN</td>\n",
       "      <td>cnv</td>\n",
       "    </tr>\n",
       "    <tr>\n",
       "      <th>1</th>\n",
       "      <td>chr1</td>\n",
       "      <td>NaN</td>\n",
       "      <td>&lt;DEL&gt;</td>\n",
       "      <td>&lt;DEL&gt;</td>\n",
       "      <td>upstream_gene_variant</td>\n",
       "      <td>MODIFIER</td>\n",
       "      <td>NaN</td>\n",
       "      <td>5203.0</td>\n",
       "      <td>WARNING_TRANSCRIPT_NO_START_CODON</td>\n",
       "      <td>PASS</td>\n",
       "      <td>...</td>\n",
       "      <td>NaN</td>\n",
       "      <td>DEL0030SUR</td>\n",
       "      <td>869451</td>\n",
       "      <td>5.0</td>\n",
       "      <td>N</td>\n",
       "      <td>1/1:BREAKDANCER,CNVNATOR,DELLY,LUMPY</td>\n",
       "      <td>NaN</td>\n",
       "      <td>protein_coding</td>\n",
       "      <td>NaN</td>\n",
       "      <td>cnv</td>\n",
       "    </tr>\n",
       "    <tr>\n",
       "      <th>2</th>\n",
       "      <td>chr1</td>\n",
       "      <td>NaN</td>\n",
       "      <td>&lt;DEL&gt;</td>\n",
       "      <td>&lt;DEL&gt;</td>\n",
       "      <td>intron_variant</td>\n",
       "      <td>MODIFIER</td>\n",
       "      <td>NaN</td>\n",
       "      <td>NaN</td>\n",
       "      <td>NaN</td>\n",
       "      <td>PASS</td>\n",
       "      <td>...</td>\n",
       "      <td>NaN</td>\n",
       "      <td>DEL0030SUR</td>\n",
       "      <td>869451</td>\n",
       "      <td>5.0</td>\n",
       "      <td>N</td>\n",
       "      <td>1/1:BREAKDANCER,CNVNATOR,DELLY,LUMPY</td>\n",
       "      <td>4/13</td>\n",
       "      <td>protein_coding</td>\n",
       "      <td>NaN</td>\n",
       "      <td>cnv</td>\n",
       "    </tr>\n",
       "    <tr>\n",
       "      <th>3</th>\n",
       "      <td>chr1</td>\n",
       "      <td>NaN</td>\n",
       "      <td>&lt;DEL&gt;</td>\n",
       "      <td>&lt;DEL&gt;</td>\n",
       "      <td>intron_variant</td>\n",
       "      <td>MODIFIER</td>\n",
       "      <td>NaN</td>\n",
       "      <td>NaN</td>\n",
       "      <td>WARNING_TRANSCRIPT_NO_STOP_CODON</td>\n",
       "      <td>PASS</td>\n",
       "      <td>...</td>\n",
       "      <td>NaN</td>\n",
       "      <td>DEL0030SUR</td>\n",
       "      <td>869451</td>\n",
       "      <td>5.0</td>\n",
       "      <td>N</td>\n",
       "      <td>1/1:BREAKDANCER,CNVNATOR,DELLY,LUMPY</td>\n",
       "      <td>4/6</td>\n",
       "      <td>protein_coding</td>\n",
       "      <td>NaN</td>\n",
       "      <td>cnv</td>\n",
       "    </tr>\n",
       "    <tr>\n",
       "      <th>4</th>\n",
       "      <td>chr1</td>\n",
       "      <td>NaN</td>\n",
       "      <td>&lt;DEL&gt;</td>\n",
       "      <td>&lt;DEL&gt;</td>\n",
       "      <td>intron_variant</td>\n",
       "      <td>MODIFIER</td>\n",
       "      <td>NaN</td>\n",
       "      <td>NaN</td>\n",
       "      <td>WARNING_TRANSCRIPT_NO_STOP_CODON</td>\n",
       "      <td>PASS</td>\n",
       "      <td>...</td>\n",
       "      <td>NaN</td>\n",
       "      <td>DEL0030SUR</td>\n",
       "      <td>869451</td>\n",
       "      <td>5.0</td>\n",
       "      <td>N</td>\n",
       "      <td>1/1:BREAKDANCER,CNVNATOR,DELLY,LUMPY</td>\n",
       "      <td>4/4</td>\n",
       "      <td>protein_coding</td>\n",
       "      <td>NaN</td>\n",
       "      <td>cnv</td>\n",
       "    </tr>\n",
       "  </tbody>\n",
       "</table>\n",
       "<p>5 rows × 26 columns</p>\n",
       "</div>"
      ],
      "text/plain": [
       "  #CHROM AA.pos.length    ALT Allele             Annotation Annotation_Impact  \\\n",
       "0   chr1           NaN  <DEL>  <DEL>  upstream_gene_variant          MODIFIER   \n",
       "1   chr1           NaN  <DEL>  <DEL>  upstream_gene_variant          MODIFIER   \n",
       "2   chr1           NaN  <DEL>  <DEL>         intron_variant          MODIFIER   \n",
       "3   chr1           NaN  <DEL>  <DEL>         intron_variant          MODIFIER   \n",
       "4   chr1           NaN  <DEL>  <DEL>         intron_variant          MODIFIER   \n",
       "\n",
       "  CDS.pos.length  Distance                             ERRORS FILTER  ...  \\\n",
       "0            NaN    3007.0   WARNING_TRANSCRIPT_NO_STOP_CODON   PASS  ...   \n",
       "1            NaN    5203.0  WARNING_TRANSCRIPT_NO_START_CODON   PASS  ...   \n",
       "2            NaN       NaN                                NaN   PASS  ...   \n",
       "3            NaN       NaN   WARNING_TRANSCRIPT_NO_STOP_CODON   PASS  ...   \n",
       "4            NaN       NaN   WARNING_TRANSCRIPT_NO_STOP_CODON   PASS  ...   \n",
       "\n",
       "  HGVS.p          ID     POS QUAL REF                                RESULT  \\\n",
       "0    NaN  DEL0030SUR  869451  5.0   N  1/1:BREAKDANCER,CNVNATOR,DELLY,LUMPY   \n",
       "1    NaN  DEL0030SUR  869451  5.0   N  1/1:BREAKDANCER,CNVNATOR,DELLY,LUMPY   \n",
       "2    NaN  DEL0030SUR  869451  5.0   N  1/1:BREAKDANCER,CNVNATOR,DELLY,LUMPY   \n",
       "3    NaN  DEL0030SUR  869451  5.0   N  1/1:BREAKDANCER,CNVNATOR,DELLY,LUMPY   \n",
       "4    NaN  DEL0030SUR  869451  5.0   N  1/1:BREAKDANCER,CNVNATOR,DELLY,LUMPY   \n",
       "\n",
       "   Rank Transcript_BioType  cDNA.pos.length type  \n",
       "0   NaN     protein_coding              NaN  cnv  \n",
       "1   NaN     protein_coding              NaN  cnv  \n",
       "2  4/13     protein_coding              NaN  cnv  \n",
       "3   4/6     protein_coding              NaN  cnv  \n",
       "4   4/4     protein_coding              NaN  cnv  \n",
       "\n",
       "[5 rows x 26 columns]"
      ]
     },
     "execution_count": 255,
     "metadata": {},
     "output_type": "execute_result"
    }
   ],
   "source": [
    "variants.head()"
   ]
  },
  {
   "cell_type": "markdown",
   "metadata": {},
   "source": [
    "    gf3 -> bed\n",
    "    vcf + gf3 -> bedtools intersect\n",
    "\n",
    "vcf\n",
    "\n",
    "gf3 -- gene positions, human genes\n",
    " "
   ]
  },
  {
   "cell_type": "markdown",
   "metadata": {},
   "source": [
    "## Append 'chr' to exome variants"
   ]
  },
  {
   "cell_type": "code",
   "execution_count": 11,
   "metadata": {},
   "outputs": [],
   "source": [
    "# outfn = 'local-patient-data/Exome/variants.vcf'\n",
    "# os.makedirs(os.path.dirname(outfn), exist_ok = True)\n",
    "\n",
    "# with open(fn) as fh, open(outfn,'w+') as outfh:\n",
    "#     for line in fh:\n",
    "#         if line.startswith('#'):\n",
    "#             print(line, end='', file=outfh)\n",
    "#         else:\n",
    "#             print('chr'+line, end='', file=outfh)"
   ]
  },
  {
   "cell_type": "code",
   "execution_count": 12,
   "metadata": {},
   "outputs": [],
   "source": [
    "# !ls local-patient-data/Exome/variants.vcf"
   ]
  }
 ],
 "metadata": {
  "kernelspec": {
   "display_name": "Python 3",
   "language": "python",
   "name": "python3"
  },
  "language_info": {
   "codemirror_mode": {
    "name": "ipython",
    "version": 3
   },
   "file_extension": ".py",
   "mimetype": "text/x-python",
   "name": "python",
   "nbconvert_exporter": "python",
   "pygments_lexer": "ipython3",
   "version": "3.7.3"
  }
 },
 "nbformat": 4,
 "nbformat_minor": 2
}
